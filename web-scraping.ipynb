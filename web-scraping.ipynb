{
 "cells": [
  {
   "cell_type": "markdown",
   "metadata": {},
   "source": [
    "# Web Mining and Applied NLP (44-620)\n",
    "\n",
    "## Web Scraping and NLP with Requests, BeautifulSoup, and spaCy\n",
    "\n",
    "### Student Name:\n",
    "**Elen Tesfai**\n",
    "\n",
    "### GitHub Repository:\n",
    "[https://github.com/Elen-tesfai/web-scraping](https://github.com/Elen-tesfai/web-scraping)\n",
    "\n",
    "---\n",
    "\n",
    "Perform the tasks described in the Markdown cells below.  When you have completed the assignment make sure your code cells have all been run (and have output beneath them) and ensure you have committed and pushed ALL of your changes to your assignment repository.\n",
    "\n",
    "Every question that requires you to write code will have a code cell underneath it; you may either write your entire solution in that cell or write it in a python file (`.py`), then import and run the appropriate code to answer the question."
   ]
  },
  {
   "cell_type": "markdown",
   "metadata": {},
   "source": [
    "## Question 1: Extract Article HTML and Save as .pkl File"
   ]
  },
  {
   "cell_type": "markdown",
   "metadata": {},
   "source": [
    "1. Write code that extracts the article html from https://web.archive.org/web/20210327165005/https://hackaday.com/2021/03/22/how-laser-headlights-work/ and dumps it to a .pkl (or other appropriate file)"
   ]
  },
  {
   "cell_type": "code",
   "execution_count": 1,
   "metadata": {},
   "outputs": [
    {
     "name": "stdout",
     "output_type": "stream",
     "text": [
      "Successfully fetched the webpage.\n",
      "HTML content successfully saved to article_html.pkl\n"
     ]
    }
   ],
   "source": [
    "# Import necessary libraries\n",
    "import requests\n",
    "from bs4 import BeautifulSoup\n",
    "import pickle\n",
    "\n",
    "# Step 1: Fetch the article HTML from the URL\n",
    "url = 'https://web.archive.org/web/20210327165005/https://hackaday.com/2021/03/22/how-laser-headlights-work/'\n",
    "response = requests.get(url)\n",
    "\n",
    "# Check if the request was successful (Status code 200)\n",
    "if response.status_code == 200:\n",
    "    print(\"Successfully fetched the webpage.\")\n",
    "else:\n",
    "    print(f\"Failed to retrieve the page. Status code: {response.status_code}\")\n",
    "    exit()\n",
    "\n",
    "# Step 2: Parse the HTML content using BeautifulSoup\n",
    "soup = BeautifulSoup(response.text, 'html.parser')\n",
    "\n",
    "# Step 3: Save the parsed HTML to a .pkl file\n",
    "with open('article_html.pkl', 'wb') as file:\n",
    "    pickle.dump(soup, file)\n",
    "\n",
    "print(\"HTML content successfully saved to article_html.pkl\")"
   ]
  },
  {
   "cell_type": "markdown",
   "metadata": {},
   "source": [
    "## Question 2: Read HTML and Print Text Using .get_text()"
   ]
  },
  {
   "cell_type": "markdown",
   "metadata": {},
   "source": [
    "2. Read in your article's html source from the file you created in question 1 and print it's text (use `.get_text()`)"
   ]
  },
  {
   "cell_type": "markdown",
   "metadata": {},
   "source": [
    "1. Write code that extracts the article html from https://web.archive.org/web/20210327165005/https://hackaday.com/2021/03/22/how-laser-headlights-work/ and dumps it to a .pkl (or other appropriate file)"
   ]
  },
  {
   "cell_type": "code",
   "execution_count": 31,
   "metadata": {},
   "outputs": [
    {
     "name": "stdout",
     "output_type": "stream",
     "text": [
      "How Laser Headlights Work | Hackaday Skip to content Hackaday Primary Menu Home Blog Hackaday.io Tindie Hackaday Prize Submit About Search for: March 27, 2021 How Laser Headlights Work 130 Comments by: Lewin Day March 22, 2021 When we think about the onward march of automotive technology, headlights aren’t usually the first thing that come to mind. Engines, fuel efficiency, and the switch to electric power are all more front of mind. However, that doesn’t mean there aren’t thousands of engineers around the world working to improve the state of the art in automotive lighting day in, day out. Sealed beam headlights gave way to more modern designs once regulations loosened up, while bulbs moved from simple halogens to xenon HIDs and, more recently, LEDs. Now, a new technology is on the scene, with lasers! Laser Headlights?! BWM’s prototype laser headlight assemblies undergoing testing. The first image brought to mind by the phrase “laser headlights” is that of laser beams firing out the f\n"
     ]
    }
   ],
   "source": [
    "import pickle\n",
    "\n",
    "# Step 1: Read the HTML from the .pkl file\n",
    "with open('article_html.pkl', 'rb') as file:\n",
    "    soup = pickle.load(file)\n",
    "\n",
    "# Step 2: Extract the text from the HTML\n",
    "article_text = soup.get_text(separator=' ', strip=True)\n",
    "\n",
    "# Step 3: Print the article text (or just a portion for clarity)\n",
    "print(article_text[:1000])  # Print the first 1000 characters for brevity"
   ]
  },
  {
   "cell_type": "markdown",
   "metadata": {},
   "source": [
    "#### ✅Explanation for **Question 2: Extracting Article HTML and Displaying Text**\n",
    "\n",
    "In this task, we read the article's HTML content from the file saved in **Question 1**. Using the **`pickle`** module, we loaded the HTML content, which was previously saved as a `.pkl` file. We then used **BeautifulSoup's `.get_text()`** method to extract all the text content from the HTML, removing any HTML tags, and presenting the plain text.\n",
    "\n",
    "We also included some formatting options for the `.get_text()` method:\n",
    "\n",
    "- **`separator=' '`**: This ensures that the extracted text uses spaces between the segments where there were originally line breaks or HTML tags.\n",
    "- **`strip=True`**: This removes any leading or trailing whitespace from the extracted text.\n",
    "\n",
    "The result is the full article text, displayed in a readable format, with the first 1000 characters printed for brevity. The output provided gives us an overview of the article's content, starting from the header section and continuing into the main body.\n",
    "\n",
    "For example, the beginning of the article includes the title \"**How Laser Headlights Work**,\" publication date, and some introductory paragraphs discussing the technology of laser headlights. The output might look something like this:"
   ]
  },
  {
   "cell_type": "markdown",
   "metadata": {},
   "source": [
    "## Question 3: Tokenize the text and print the most frequent tokens\n",
    "Here, we need to tokenize the text and find the most frequent tokens. We can use spaCy to tokenize the text."
   ]
  },
  {
   "cell_type": "markdown",
   "metadata": {},
   "source": [
    "3. Load the article text into a trained `spaCy` pipeline, and determine the 5 most frequent tokens (converted to lower case).  Print the common tokens with an appropriate label.  Additionally, print the tokens their frequencies (with appropriate labels). Make sure to remove things we don't care about (punctuation, stopwords, whitespace)."
   ]
  },
  {
   "cell_type": "markdown",
   "metadata": {},
   "source": [
    "#### Code for Tokenizing Text:"
   ]
  },
  {
   "cell_type": "code",
   "execution_count": 32,
   "metadata": {},
   "outputs": [
    {
     "name": "stdout",
     "output_type": "stream",
     "text": [
      "Most Frequent Tokens:\n",
      "Token: comment, Frequency: 136\n",
      "Token: march, Frequency: 133\n",
      "Token: 2021, Frequency: 133\n",
      "Token: says, Frequency: 132\n",
      "Token: report, Frequency: 130\n"
     ]
    }
   ],
   "source": [
    "# Importing spaCy and the Counter library\n",
    "import spacy\n",
    "from collections import Counter\n",
    "\n",
    "# Step 1: Load spaCy's English language model\n",
    "nlp = spacy.load(\"en_core_web_sm\")\n",
    "\n",
    "# Step 2: Process the article text using spaCy\n",
    "doc = nlp(article_text)\n",
    "\n",
    "# Step 3: Tokenize and count the frequency of each token (filtered for stopwords, punctuation, and whitespace)\n",
    "tokens = [token.text.lower() for token in doc if not token.is_stop and not token.is_punct and not token.is_space]\n",
    "\n",
    "# Step 4: Get the most common tokens\n",
    "token_counts = Counter(tokens)\n",
    "\n",
    "# Step 5: Get the 5 most frequent tokens\n",
    "most_common_tokens = token_counts.most_common(5)\n",
    "\n",
    "# Step 6: Print the most common tokens and their frequencies\n",
    "print(\"Most Frequent Tokens:\")\n",
    "for token, freq in most_common_tokens:\n",
    "    print(f\"Token: {token}, Frequency: {freq}\")"
   ]
  },
  {
   "cell_type": "markdown",
   "metadata": {},
   "source": [
    "### ✅Explanation for **Question 3: Token Frequency with spaCy**\n",
    "\n",
    "In this task, we used **spaCy** to process the article text and identified the 5 most frequent tokens (converted to lowercase). We removed **stopwords**, **punctuation**, and **whitespace** to ensure the analysis focused on meaningful words. The five most frequent tokens and their corresponding frequencies are as follows:\n",
    "\n",
    "- **comment**: 136 occurrences  \n",
    "- **march**: 133 occurrences  \n",
    "- **2021**: 133 occurrences  \n",
    "- **says**: 132 occurrences  \n",
    "- **report**: 130 occurrences\n",
    "\n",
    "These frequent tokens give us insight into the structure of the article. Words like **\"comment\"**, **\"says\"**, and **\"report\"** suggest the article contains **quotes**, **reports**, and **reader interaction**. The appearance of **\"march\"** and **\"2021\"** shows references to specific **timeframes**.  "
   ]
  },
  {
   "cell_type": "markdown",
   "metadata": {},
   "source": [
    "## Question 4: Find the most frequent lemmas and print them\n",
    "A lemma is the base form of a word (e.g., \"running\" becomes \"run\"). This question asks us to find the most frequent lemmas instead of tokens.\n",
    "\n",
    "### Code for Lemmatization:"
   ]
  },
  {
   "cell_type": "markdown",
   "metadata": {},
   "source": [
    "4. Load the article text into a trained `spaCy` pipeline, and determine the 5 most frequent lemmas (converted to lower case).  Print the common lemmas with an appropriate label.  Additionally, print the lemmas with their frequencies (with appropriate labels). Make sure to remove things we don't care about (punctuation, stopwords, whitespace)."
   ]
  },
  {
   "cell_type": "code",
   "execution_count": 3,
   "metadata": {},
   "outputs": [
    {
     "name": "stdout",
     "output_type": "stream",
     "text": [
      "Most Frequent Lemmas:\n",
      "Lemma: comment, Frequency: 158\n",
      "Lemma: say, Frequency: 134\n",
      "Lemma: march, Frequency: 133\n",
      "Lemma: 2021, Frequency: 133\n",
      "Lemma: report, Frequency: 130\n"
     ]
    }
   ],
   "source": [
    "import pickle\n",
    "import spacy\n",
    "from collections import Counter\n",
    "\n",
    "# Step 1: Load the saved HTML from the pickle file\n",
    "with open('article_html.pkl', 'rb') as file:\n",
    "    soup = pickle.load(file)\n",
    "\n",
    "# Step 2: Extract text from the HTML soup\n",
    "article_text = soup.get_text(separator=' ', strip=True)\n",
    "\n",
    "# Step 3: Load spaCy English model\n",
    "nlp = spacy.load(\"en_core_web_sm\")\n",
    "\n",
    "# Step 4: Process the article text with spaCy\n",
    "doc = nlp(article_text)\n",
    "\n",
    "# Step 5: Extract lemmas, filtering stopwords, punctuation, and whitespace\n",
    "lemmas = [\n",
    "    token.lemma_.lower()\n",
    "    for token in doc\n",
    "    if not token.is_stop and not token.is_punct and not token.is_space\n",
    "]\n",
    "\n",
    "# Step 6: Count lemma frequencies\n",
    "lemma_counts = Counter(lemmas)\n",
    "\n",
    "# Step 7: Get the 5 most common lemmas\n",
    "most_common_lemmas = lemma_counts.most_common(5)\n",
    "\n",
    "# Step 8: Print results\n",
    "print(\"Most Frequent Lemmas:\")\n",
    "for lemma, freq in most_common_lemmas:\n",
    "    print(f\"Lemma: {lemma}, Frequency: {freq}\")"
   ]
  },
  {
   "cell_type": "markdown",
   "metadata": {},
   "source": [
    "### ✅Explanation for **Question 4: Most Frequent Lemmas**\n",
    "\n",
    "In this task, we used **spaCy** to extract the **lemmas** (base forms) of words from the article text. We excluded stopwords, punctuation, and whitespace to focus on meaningful content.\n",
    "\n",
    "**Steps Taken:**\n",
    "1. **Load spaCy's model**: We used `en_core_web_sm` to process the article text.\n",
    "2. **Lemmatization**: Extracted the base form of each word.\n",
    "3. **Filtering**: Removed stopwords, punctuation, and whitespace.\n",
    "4. **Counting Frequencies**: Used `Counter` to count how often each lemma appeared.\n",
    "5. **Displaying Results**: Printed the top 5 most frequent lemmas.\n",
    "\n",
    "**Result**: \n",
    "The most frequent lemmas included words like \"**comment**\", \"**march**\", \"**say**\", and \"**report**\", which are the core concepts frequently mentioned in the article.\n",
    "\n",
    "This method helps normalize word variations, ensuring more accurate frequency analysis."
   ]
  },
  {
   "cell_type": "markdown",
   "metadata": {},
   "source": [
    "## Question 5: Define Methods for Scoring Sentences"
   ]
  },
  {
   "cell_type": "markdown",
   "metadata": {},
   "source": [
    "5. Define the following methods:\n",
    "    * `score_sentence_by_token(sentence, interesting_token)` that takes a sentence and a list of interesting token and returns the number of times that any of the interesting words appear in the sentence divided by the number of words in the sentence\n",
    "    * `score_sentence_by_lemma(sentence, interesting_lemmas)` that takes a sentence and a list of interesting lemmas and returns the number of times that any of the interesting lemmas appear in the sentence divided by the number of words in the sentence\n",
    "    \n",
    "You may find some of the code from the in class notes useful; feel free to use methods (rewrite them in this cell as well).  Test them by showing the score of the first sentence in your article using the frequent tokens and frequent lemmas identified in question 3."
   ]
  },
  {
   "cell_type": "code",
   "execution_count": 11,
   "metadata": {},
   "outputs": [
    {
     "name": "stdout",
     "output_type": "stream",
     "text": [
      "First Sentence:\n",
      "How Laser Headlights Work | Hackaday Skip to content Hackaday Primary Menu Home Blog Hackaday.io Tindie Hackaday Prize Submit About Search for: March 27, 2021 How Laser Headlights Work 130 Comments by: Lewin Day March 22, 2021 When we think about the onward march of automotive technology, headlights aren’t usually the first thing that come to mind.\n",
      "\n",
      "Scores:\n",
      "Token Score: 0.0862\n",
      "Lemma Score: 0.1034\n"
     ]
    }
   ],
   "source": [
    "# Import necessary libraries\n",
    "import spacy\n",
    "from typing import List\n",
    "\n",
    "# Load spaCy model (make sure it's loaded)\n",
    "nlp = spacy.load(\"en_core_web_sm\")\n",
    "\n",
    "# Define method to score sentence by tokens\n",
    "def score_sentence_by_token(sentence: str, interesting_tokens: List[str]) -> float:\n",
    "    \"\"\"\n",
    "    Scores a sentence based on how many interesting tokens it contains.\n",
    "    \"\"\"\n",
    "    doc = nlp(sentence)\n",
    "    tokens = [token.text.lower() for token in doc if not token.is_punct and not token.is_space]\n",
    "    if len(tokens) == 0:\n",
    "        return 0.0\n",
    "    match_count = sum(1 for token in tokens if token in interesting_tokens)\n",
    "    return match_count / len(tokens)\n",
    "\n",
    "# Define method to score sentence by lemmas\n",
    "def score_sentence_by_lemma(sentence: str, interesting_lemmas: List[str]) -> float:\n",
    "    \"\"\"\n",
    "    Scores a sentence based on how many interesting lemmas it contains.\n",
    "    \"\"\"\n",
    "    doc = nlp(sentence)\n",
    "    lemmas = [token.lemma_.lower() for token in doc if not token.is_punct and not token.is_space]\n",
    "    if len(lemmas) == 0:\n",
    "        return 0.0\n",
    "    match_count = sum(1 for lemma in lemmas if lemma in interesting_lemmas)\n",
    "    return match_count / len(lemmas)\n",
    "\n",
    "# Load article HTML from .pkl\n",
    "import pickle\n",
    "\n",
    "with open('article_html.pkl', 'rb') as file:\n",
    "    soup = pickle.load(file)\n",
    "\n",
    "# Extract the article text\n",
    "article_text = soup.get_text(separator=' ', strip=True)\n",
    "\n",
    "# Process the article with spaCy to get sentences\n",
    "doc = nlp(article_text)\n",
    "sentences = list(doc.sents)\n",
    "\n",
    "# Get the first sentence from the article\n",
    "first_sentence = sentences[0].text\n",
    "\n",
    "# Define top 5 interesting tokens and lemmas (from previous questions)\n",
    "interesting_tokens = ['comment', 'march', '2021', 'says', 'report']\n",
    "interesting_lemmas = ['comment', 'say', 'march', '2021', 'report']\n",
    "\n",
    "# Score the first sentence\n",
    "token_score = score_sentence_by_token(first_sentence, interesting_tokens)\n",
    "lemma_score = score_sentence_by_lemma(first_sentence, interesting_lemmas)\n",
    "\n",
    "# Print the results\n",
    "print(\"First Sentence:\")\n",
    "print(first_sentence)\n",
    "print(\"\\nScores:\")\n",
    "print(f\"Token Score: {token_score:.4f}\")\n",
    "print(f\"Lemma Score: {lemma_score:.4f}\")"
   ]
  },
  {
   "cell_type": "markdown",
   "metadata": {},
   "source": [
    "### ✅ Explanation for Question 5: Scoring Sentences by Token and Lemma\n",
    "\n",
    "In this question, we created two custom functions to evaluate how relevant a sentence is based on frequently occurring words from the article:\n",
    "\n",
    "- **`score_sentence_by_token(sentence, interesting_tokens)`**  \n",
    "  This function scores a sentence by counting how many times the **lowercased tokens** appear in a predefined list of interesting words. The score is calculated as:\n",
    "\n",
    "  \\[\n",
    "  \\text{Token Score} = \\frac{\\text{Matching Tokens}}{\\text{Total Tokens in Sentence}}\n",
    "  \\]\n",
    "\n",
    "- **`score_sentence_by_lemma(sentence, interesting_lemmas)`**  \n",
    "  This function performs the same task but uses **lemmas**, which are the base forms of words. For example, `\"says\"` becomes `\"say\"`. This helps match word variants more accurately.\n",
    "\n",
    "---\n",
    "\n",
    "### 🔍 Example Output (Using First Sentence of the Article):\n",
    "\n",
    "- **Token Score:** 0.0862  \n",
    "- **Lemma Score:** 0.1034\n",
    "\n",
    "These values indicate that the sentence includes several relevant keywords such as `\"march\"`, `\"2021\"`, and `\"comment\"`, which appeared frequently in earlier analysis (Questions 3 & 4). The lemma score is slightly higher due to its ability to match word variants like `\"says\"` → `\"say\"`.\n",
    "\n",
    "---\n",
    "\n",
    "These sentence scoring functions are useful for:\n",
    "- Identifying the most relevant sentences in a document\n",
    "- Ranking sentences by importance\n",
    "- Building extractive summaries based on content relevance"
   ]
  },
  {
   "cell_type": "markdown",
   "metadata": {},
   "source": [
    "## Question 6: Plot Histogram of Sentence Scores (Using Tokens)"
   ]
  },
  {
   "cell_type": "markdown",
   "metadata": {},
   "source": [
    "6. Make a list containing the scores (using tokens) of every sentence in the article, and plot a histogram with appropriate titles and axis labels of the scores. From your histogram, what seems to be the most common range of scores (put the answer in a comment after your code)?"
   ]
  },
  {
   "cell_type": "code",
   "execution_count": 12,
   "metadata": {},
   "outputs": [
    {
     "data": {
      "image/png": "[encoded data removed]",
      "text/plain": [
       "<Figure size 1000x600 with 1 Axes>"
      ]
     },
     "metadata": {},
     "output_type": "display_data"
    }
   ],
   "source": [
    "import matplotlib.pyplot as plt\n",
    "\n",
    "# Reuse token scoring function from earlier\n",
    "def score_sentence_by_token(sentence: str, interesting_tokens: List[str]) -> float:\n",
    "    doc = nlp(sentence)\n",
    "    tokens = [token.text.lower() for token in doc if not token.is_punct and not token.is_space]\n",
    "    if len(tokens) == 0:\n",
    "        return 0.0\n",
    "    match_count = sum(1 for token in tokens if token in interesting_tokens)\n",
    "    return match_count / len(tokens)\n",
    "\n",
    "# List of token scores for each sentence in the article\n",
    "sentence_scores = [score_sentence_by_token(sent.text, interesting_tokens) for sent in sentences]\n",
    "\n",
    "# Plotting the histogram\n",
    "plt.figure(figsize=(10, 6))\n",
    "plt.hist(sentence_scores, bins=20, color='skyblue', edgecolor='black')\n",
    "plt.title(\"Histogram of Sentence Token Scores\")\n",
    "plt.xlabel(\"Token Score\")\n",
    "plt.ylabel(\"Number of Sentences\")\n",
    "plt.grid(True)\n",
    "plt.show()\n",
    "\n",
    "# Interpretation (in comment):\n",
    "# Most scores fall between 0.0 and 0.05, meaning the majority of sentences contain few interesting tokens."
   ]
  },
  {
   "cell_type": "markdown",
   "metadata": {},
   "source": [
    "### ✅ Explanation for Question 6: Token Score Histogram\n",
    "\n",
    "In this question, we calculated a token-based relevance score for each sentence in the article using the `score_sentence_by_token()` function defined earlier. This function evaluates how many times a sentence includes one of the most frequent tokens identified in Question 3 (e.g., `\"comment\"`, `\"march\"`, `\"2021\"`, `\"says\"`, `\"report\"`).\n",
    "\n",
    "#### 📊 What We Did:\n",
    "- Scored each sentence in the article using token frequency.\n",
    "- Collected all the scores into a list.\n",
    "- Plotted a histogram to visualize how sentence scores are distributed.\n",
    "\n",
    "#### 📈 Interpretation:\n",
    "From the histogram, we observed that the **most common range of token scores is between 0.0 and 0.05**. This suggests that the majority of sentences contain **few or none** of the high-frequency tokens from the article.\n",
    "\n",
    "This distribution helps us understand which sentences are likely to be **less relevant** or **more central** to the article's main ideas. Higher-scoring sentences might be useful for summarizing or highlighting key points."
   ]
  },
  {
   "cell_type": "markdown",
   "metadata": {},
   "source": [
    "## Question 7: Plot Histogram of Sentence Scores (Using Lemmas)"
   ]
  },
  {
   "cell_type": "markdown",
   "metadata": {},
   "source": [
    "7. Make a list containing the scores (using lemmas) of every sentence in the article, and plot a histogram with appropriate titles and axis labels of the scores.  From your histogram, what seems to be the most common range of scores (put the answer in a comment after your code)?"
   ]
  },
  {
   "cell_type": "code",
   "execution_count": 13,
   "metadata": {},
   "outputs": [
    {
     "data": {
      "image/png": "[encoded data removed]",
      "text/plain": [
       "<Figure size 1000x600 with 1 Axes>"
      ]
     },
     "metadata": {},
     "output_type": "display_data"
    }
   ],
   "source": [
    "import matplotlib.pyplot as plt\n",
    "\n",
    "# Score all sentences using lemmas\n",
    "lemma_scores = [score_sentence_by_lemma(sent.text, interesting_lemmas) for sent in sentences]\n",
    "\n",
    "# Plot histogram\n",
    "plt.figure(figsize=(10,6))\n",
    "plt.hist(lemma_scores, bins=20, color='skyblue', edgecolor='black')\n",
    "plt.title('Histogram of Sentence Scores (Using Lemmas)')\n",
    "plt.xlabel('Sentence Score (Lemma-based)')\n",
    "plt.ylabel('Number of Sentences')\n",
    "plt.grid(axis='y')\n",
    "plt.show()\n",
    "\n",
    "# From the histogram, the most common range of lemma scores is between 0.0 and 0.05"
   ]
  },
  {
   "cell_type": "markdown",
   "metadata": {},
   "source": [
    "### ✅ Explanation for Question 7: Lemma Score Histogram\n",
    "\n",
    "For this question, we computed scores for each sentence in the article using lemma frequencies with the `score_sentence_by_lemma()` function. This score reflects how often the most frequent lemmas from Question 4 appear in each sentence.\n",
    "\n",
    "#### 📊 What We Did:\n",
    "- Applied lemma-based scoring to every sentence.\n",
    "- Created a histogram to visualize the distribution of these scores.\n",
    "\n",
    "#### 📈 Interpretation:\n",
    "The histogram shows that the **most common range of lemma scores is between 0.0 and 0.05**, indicating that many sentences contain very few or none of the key lemmas. This suggests a sparse distribution of these important lemmas across the text.\n",
    "\n",
    "Understanding this helps highlight which sentences may carry more semantic weight and relevance within the article."
   ]
  },
  {
   "cell_type": "markdown",
   "metadata": {},
   "source": [
    "## Question 8: Filtering Nouns\n",
    "To only consider nouns as interesting words, we can modify the tokenization and lemmatization process to check for noun tags:"
   ]
  },
  {
   "cell_type": "markdown",
   "metadata": {},
   "source": [
    "8. Which tokens and lexems would be ommitted from the lists generated in questions 3 and 4 if we only wanted to consider nouns as interesting words?  How might we change the code to only consider nouns? Put your answer in this Markdown cell (you can edit it by double clicking it)."
   ]
  },
  {
   "cell_type": "markdown",
   "metadata": {},
   "source": [
    "**Tokens and lemmas omitted:**  \n",
    "If we restrict our analysis to only nouns, all tokens and lemmas that are *not* nouns will be omitted. This includes verbs (like \"say\", \"report\"), adjectives, adverbs, numerals, conjunctions, and other parts of speech. For example, frequent lemmas such as \"say\" and \"report\" would be excluded since they are verbs, leaving mainly nouns like \"comment\" or \"march\".\n",
    "\n",
    "**How to modify the code to only consider nouns:**  \n",
    "We can filter tokens by their part-of-speech tag in spaCy. Specifically, keep only tokens where `token.pos_` is `\"NOUN\"` (common noun) or `\"PROPN\"` (proper noun). This filter is added when selecting tokens or lemmas.\n",
    "\n",
    "Example code snippet for filtering to nouns only:"
   ]
  },
  {
   "cell_type": "code",
   "execution_count": 15,
   "metadata": {},
   "outputs": [
    {
     "name": "stdout",
     "output_type": "stream",
     "text": [
      "Most common noun tokens:\n",
      "[('comment', 136), ('march', 133), ('reply', 112), ('hacks', 74), ('laser', 63), ('headlights', 56), ('light', 42), ('time', 37), ('pm', 37), ('car', 36)]\n",
      "\n",
      "Most common noun lemmas:\n",
      "[('comment', 158), ('march', 133), ('reply', 112), ('laser', 72), ('headlight', 71), ('light', 71), ('car', 63), ('beam', 53), ('hacks', 45), ('time', 38)]\n"
     ]
    }
   ],
   "source": [
    "# Assuming you already have the 'doc' from spaCy processing your text\n",
    "\n",
    "# Filter tokens to only nouns and proper nouns (excluding stopwords, punctuation, spaces)\n",
    "tokens = [\n",
    "    token.text.lower()\n",
    "    for token in doc\n",
    "    if not token.is_stop and not token.is_punct and not token.is_space and token.pos_ in [\"NOUN\", \"PROPN\"]\n",
    "]\n",
    "\n",
    "# Filter lemmas similarly\n",
    "lemmas = [\n",
    "    token.lemma_.lower()\n",
    "    for token in doc\n",
    "    if not token.is_stop and not token.is_punct and not token.is_space and token.pos_ in [\"NOUN\", \"PROPN\"]\n",
    "]\n",
    "\n",
    "from collections import Counter\n",
    "\n",
    "# Print 10 most common noun tokens\n",
    "print(\"Most common noun tokens:\")\n",
    "print(Counter(tokens).most_common(10))\n",
    "\n",
    "# Print 10 most common noun lemmas\n",
    "print(\"\\nMost common noun lemmas:\")\n",
    "print(Counter(lemmas).most_common(10))"
   ]
  },
  {
   "cell_type": "markdown",
   "metadata": {},
   "source": [
    "### ✅  Explanation for Question 8: Filtering for Nouns Only\n",
    "\n",
    "When we restrict our analysis to only nouns and proper nouns, all tokens and lemmas that are not nouns are omitted. This means verbs (e.g., \"say\", \"report\"), adjectives, adverbs, numerals, conjunctions, and other parts of speech are excluded from the lists.\n",
    "\n",
    "For example, frequent lemmas like \"say\" and \"report\" are removed since they are verbs. This leaves mainly nouns such as \"comment\", \"march\", \"laser\", and \"headlight\" which are more representative of the main topics and subjects in the article.\n",
    "\n",
    "To implement this filtering in the code, we use spaCy’s part-of-speech tagging and select tokens where `token.pos_` is either `\"NOUN\"` (common noun) or `\"PROPN\"` (proper noun). This filter can be added when extracting tokens or lemmas from the processed document.\n",
    "\n",
    "This approach focuses the analysis on nouns, which often correspond to key entities and subjects, improving the relevance of frequent word lists for certain NLP tasks."
   ]
  }
 ],
 "metadata": {
  "kernelspec": {
   "display_name": "Python 3",
   "language": "python",
   "name": "python3"
  },
  "language_info": {
   "codemirror_mode": {
    "name": "ipython",
    "version": 3
   },
   "file_extension": ".py",
   "mimetype": "text/x-python",
   "name": "python",
   "nbconvert_exporter": "python",
   "pygments_lexer": "ipython3",
   "version": "3.10.11"
  }
 },
 "nbformat": 4,
 "nbformat_minor": 4
}
