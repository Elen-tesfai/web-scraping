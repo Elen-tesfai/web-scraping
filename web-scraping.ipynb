{
 "cells": [
  {
   "cell_type": "markdown",
   "metadata": {},
   "source": [
    "# Web Mining and Applied NLP (44-620)\n",
    "\n",
    "## Web Scraping and NLP with Requests, BeautifulSoup, and spaCy\n",
    "\n",
    "### Student Name:\n",
    "**Elen Tesfai**\n",
    "\n",
    "### GitHub Repository:\n",
    "[https://github.com/Elen-tesfai/web-scraping](https://github.com/Elen-tesfai/web-scraping)\n",
    "\n",
    "---\n",
    "\n",
    "Perform the tasks described in the Markdown cells below.  When you have completed the assignment make sure your code cells have all been run (and have output beneath them) and ensure you have committed and pushed ALL of your changes to your assignment repository.\n",
    "\n",
    "Every question that requires you to write code will have a code cell underneath it; you may either write your entire solution in that cell or write it in a python file (`.py`), then import and run the appropriate code to answer the question."
   ]
  },
  {
   "cell_type": "markdown",
   "metadata": {},
   "source": [
    "## Question 1: Extract Article HTML and Save as .pkl File"
   ]
  },
  {
   "cell_type": "markdown",
   "metadata": {},
   "source": [
    "1. Write code that extracts the article html from https://web.archive.org/web/20210327165005/https://hackaday.com/2021/03/22/how-laser-headlights-work/ and dumps it to a .pkl (or other appropriate file)"
   ]
  },
  {
   "cell_type": "code",
   "execution_count": 1,
   "metadata": {},
   "outputs": [
    {
     "name": "stdout",
     "output_type": "stream",
     "text": [
      "Successfully fetched the webpage.\n",
      "HTML content successfully saved to article_html.pkl\n"
     ]
    }
   ],
   "source": [
    "# Import necessary libraries\n",
    "import requests\n",
    "from bs4 import BeautifulSoup\n",
    "import pickle\n",
    "\n",
    "# Step 1: Fetch the article HTML from the URL\n",
    "url = 'https://web.archive.org/web/20210327165005/https://hackaday.com/2021/03/22/how-laser-headlights-work/'\n",
    "response = requests.get(url)\n",
    "\n",
    "# Check if the request was successful (Status code 200)\n",
    "if response.status_code == 200:\n",
    "    print(\"Successfully fetched the webpage.\")\n",
    "else:\n",
    "    print(f\"Failed to retrieve the page. Status code: {response.status_code}\")\n",
    "    exit()\n",
    "\n",
    "# Step 2: Parse the HTML content using BeautifulSoup\n",
    "soup = BeautifulSoup(response.text, 'html.parser')\n",
    "\n",
    "# Step 3: Save the parsed HTML to a .pkl file\n",
    "with open('article_html.pkl', 'wb') as file:\n",
    "    pickle.dump(soup, file)\n",
    "\n",
    "print(\"HTML content successfully saved to article_html.pkl\")"
   ]
  },
  {
   "cell_type": "markdown",
   "metadata": {},
   "source": [
    "## Question 2: Read HTML and Print Text Using .get_text()"
   ]
  },
  {
   "cell_type": "markdown",
   "metadata": {},
   "source": [
    "2. Read in your article's html source from the file you created in question 1 and print it's text (use `.get_text()`)"
   ]
  },
  {
   "cell_type": "markdown",
   "metadata": {},
   "source": [
    "1. Write code that extracts the article html from https://web.archive.org/web/20210327165005/https://hackaday.com/2021/03/22/how-laser-headlights-work/ and dumps it to a .pkl (or other appropriate file)"
   ]
  },
  {
   "cell_type": "code",
   "execution_count": 31,
   "metadata": {},
   "outputs": [
    {
     "name": "stdout",
     "output_type": "stream",
     "text": [
      "How Laser Headlights Work | Hackaday Skip to content Hackaday Primary Menu Home Blog Hackaday.io Tindie Hackaday Prize Submit About Search for: March 27, 2021 How Laser Headlights Work 130 Comments by: Lewin Day March 22, 2021 When we think about the onward march of automotive technology, headlights aren’t usually the first thing that come to mind. Engines, fuel efficiency, and the switch to electric power are all more front of mind. However, that doesn’t mean there aren’t thousands of engineers around the world working to improve the state of the art in automotive lighting day in, day out. Sealed beam headlights gave way to more modern designs once regulations loosened up, while bulbs moved from simple halogens to xenon HIDs and, more recently, LEDs. Now, a new technology is on the scene, with lasers! Laser Headlights?! BWM’s prototype laser headlight assemblies undergoing testing. The first image brought to mind by the phrase “laser headlights” is that of laser beams firing out the f\n"
     ]
    }
   ],
   "source": [
    "import pickle\n",
    "\n",
    "# Step 1: Read the HTML from the .pkl file\n",
    "with open('article_html.pkl', 'rb') as file:\n",
    "    soup = pickle.load(file)\n",
    "\n",
    "# Step 2: Extract the text from the HTML\n",
    "article_text = soup.get_text(separator=' ', strip=True)\n",
    "\n",
    "# Step 3: Print the article text (or just a portion for clarity)\n",
    "print(article_text[:1000])  # Print the first 1000 characters for brevity"
   ]
  },
  {
   "cell_type": "markdown",
   "metadata": {},
   "source": [
    "#### Explanation for **Question 2: Extracting Article HTML and Displaying Text**\n",
    "\n",
    "In this task, we read the article's HTML content from the file saved in **Question 1**. Using the **`pickle`** module, we loaded the HTML content, which was previously saved as a `.pkl` file. We then used **BeautifulSoup's `.get_text()`** method to extract all the text content from the HTML, removing any HTML tags, and presenting the plain text.\n",
    "\n",
    "We also included some formatting options for the `.get_text()` method:\n",
    "\n",
    "- **`separator=' '`**: This ensures that the extracted text uses spaces between the segments where there were originally line breaks or HTML tags.\n",
    "- **`strip=True`**: This removes any leading or trailing whitespace from the extracted text.\n",
    "\n",
    "The result is the full article text, displayed in a readable format, with the first 1000 characters printed for brevity. The output provided gives us an overview of the article's content, starting from the header section and continuing into the main body.\n",
    "\n",
    "For example, the beginning of the article includes the title \"**How Laser Headlights Work**,\" publication date, and some introductory paragraphs discussing the technology of laser headlights. The output might look something like this:"
   ]
  },
  {
   "cell_type": "markdown",
   "metadata": {},
   "source": [
    "## Question 3: Tokenize the text and print the most frequent tokens\n",
    "Here, we need to tokenize the text and find the most frequent tokens. We can use spaCy to tokenize the text."
   ]
  },
  {
   "cell_type": "markdown",
   "metadata": {},
   "source": [
    "3. Load the article text into a trained `spaCy` pipeline, and determine the 5 most frequent tokens (converted to lower case).  Print the common tokens with an appropriate label.  Additionally, print the tokens their frequencies (with appropriate labels). Make sure to remove things we don't care about (punctuation, stopwords, whitespace)."
   ]
  },
  {
   "cell_type": "markdown",
   "metadata": {},
   "source": [
    "#### Code for Tokenizing Text:"
   ]
  },
  {
   "cell_type": "code",
   "execution_count": 32,
   "metadata": {},
   "outputs": [
    {
     "name": "stdout",
     "output_type": "stream",
     "text": [
      "Most Frequent Tokens:\n",
      "Token: comment, Frequency: 136\n",
      "Token: march, Frequency: 133\n",
      "Token: 2021, Frequency: 133\n",
      "Token: says, Frequency: 132\n",
      "Token: report, Frequency: 130\n"
     ]
    }
   ],
   "source": [
    "# Importing spaCy and the Counter library\n",
    "import spacy\n",
    "from collections import Counter\n",
    "\n",
    "# Step 1: Load spaCy's English language model\n",
    "nlp = spacy.load(\"en_core_web_sm\")\n",
    "\n",
    "# Step 2: Process the article text using spaCy\n",
    "doc = nlp(article_text)\n",
    "\n",
    "# Step 3: Tokenize and count the frequency of each token (filtered for stopwords, punctuation, and whitespace)\n",
    "tokens = [token.text.lower() for token in doc if not token.is_stop and not token.is_punct and not token.is_space]\n",
    "\n",
    "# Step 4: Get the most common tokens\n",
    "token_counts = Counter(tokens)\n",
    "\n",
    "# Step 5: Get the 5 most frequent tokens\n",
    "most_common_tokens = token_counts.most_common(5)\n",
    "\n",
    "# Step 6: Print the most common tokens and their frequencies\n",
    "print(\"Most Frequent Tokens:\")\n",
    "for token, freq in most_common_tokens:\n",
    "    print(f\"Token: {token}, Frequency: {freq}\")"
   ]
  },
  {
   "cell_type": "markdown",
   "metadata": {},
   "source": [
    "### Explanation for **Question 3: Token Frequency with spaCy**\n",
    "\n",
    "In this task, we used **spaCy** to process the article text and identified the 5 most frequent tokens (converted to lowercase). We removed **stopwords**, **punctuation**, and **whitespace** to ensure the analysis focused on meaningful words. The five most frequent tokens and their corresponding frequencies are as follows:\n",
    "\n",
    "- **comment**: 136 occurrences  \n",
    "- **march**: 133 occurrences  \n",
    "- **2021**: 133 occurrences  \n",
    "- **says**: 132 occurrences  \n",
    "- **report**: 130 occurrences\n",
    "\n",
    "These frequent tokens give us insight into the structure of the article. Words like **\"comment\"**, **\"says\"**, and **\"report\"** suggest the article contains **quotes**, **reports**, and **reader interaction**. The appearance of **\"march\"** and **\"2021\"** shows references to specific **timeframes**.  "
   ]
  },
  {
   "cell_type": "markdown",
   "metadata": {},
   "source": [
    "## Question 4: Find the most frequent lemmas and print them\n",
    "A lemma is the base form of a word (e.g., \"running\" becomes \"run\"). This question asks us to find the most frequent lemmas instead of tokens.\n",
    "\n",
    "### Code for Lemmatization:"
   ]
  },
  {
   "cell_type": "markdown",
   "metadata": {},
   "source": [
    "4. Load the article text into a trained `spaCy` pipeline, and determine the 5 most frequent lemmas (converted to lower case).  Print the common lemmas with an appropriate label.  Additionally, print the lemmas with their frequencies (with appropriate labels). Make sure to remove things we don't care about (punctuation, stopwords, whitespace)."
   ]
  },
  {
   "cell_type": "code",
   "execution_count": 3,
   "metadata": {},
   "outputs": [
    {
     "name": "stdout",
     "output_type": "stream",
     "text": [
      "Most Frequent Lemmas:\n",
      "Lemma: comment, Frequency: 158\n",
      "Lemma: say, Frequency: 134\n",
      "Lemma: march, Frequency: 133\n",
      "Lemma: 2021, Frequency: 133\n",
      "Lemma: report, Frequency: 130\n"
     ]
    }
   ],
   "source": [
    "import pickle\n",
    "import spacy\n",
    "from collections import Counter\n",
    "\n",
    "# Step 1: Load the saved HTML from the pickle file\n",
    "with open('article_html.pkl', 'rb') as file:\n",
    "    soup = pickle.load(file)\n",
    "\n",
    "# Step 2: Extract text from the HTML soup\n",
    "article_text = soup.get_text(separator=' ', strip=True)\n",
    "\n",
    "# Step 3: Load spaCy English model\n",
    "nlp = spacy.load(\"en_core_web_sm\")\n",
    "\n",
    "# Step 4: Process the article text with spaCy\n",
    "doc = nlp(article_text)\n",
    "\n",
    "# Step 5: Extract lemmas, filtering stopwords, punctuation, and whitespace\n",
    "lemmas = [\n",
    "    token.lemma_.lower()\n",
    "    for token in doc\n",
    "    if not token.is_stop and not token.is_punct and not token.is_space\n",
    "]\n",
    "\n",
    "# Step 6: Count lemma frequencies\n",
    "lemma_counts = Counter(lemmas)\n",
    "\n",
    "# Step 7: Get the 5 most common lemmas\n",
    "most_common_lemmas = lemma_counts.most_common(5)\n",
    "\n",
    "# Step 8: Print results\n",
    "print(\"Most Frequent Lemmas:\")\n",
    "for lemma, freq in most_common_lemmas:\n",
    "    print(f\"Lemma: {lemma}, Frequency: {freq}\")"
   ]
  },
  {
   "cell_type": "markdown",
   "metadata": {},
   "source": [
    "### Explanation for **Question 4: Most Frequent Lemmas**\n",
    "\n",
    "In this task, we used **spaCy** to extract the **lemmas** (base forms) of words from the article text. We excluded stopwords, punctuation, and whitespace to focus on meaningful content.\n",
    "\n",
    "**Steps Taken:**\n",
    "1. **Load spaCy's model**: We used `en_core_web_sm` to process the article text.\n",
    "2. **Lemmatization**: Extracted the base form of each word.\n",
    "3. **Filtering**: Removed stopwords, punctuation, and whitespace.\n",
    "4. **Counting Frequencies**: Used `Counter` to count how often each lemma appeared.\n",
    "5. **Displaying Results**: Printed the top 5 most frequent lemmas.\n",
    "\n",
    "**Result**: \n",
    "The most frequent lemmas included words like \"**comment**\", \"**march**\", \"**say**\", and \"**report**\", which are the core concepts frequently mentioned in the article.\n",
    "\n",
    "This method helps normalize word variations, ensuring more accurate frequency analysis."
   ]
  },
  {
   "cell_type": "markdown",
   "metadata": {},
   "source": [
    "## Question 5: Define Methods for Scoring Sentences"
   ]
  },
  {
   "cell_type": "markdown",
   "metadata": {},
   "source": [
    "5. Define the following methods:\n",
    "    * `score_sentence_by_token(sentence, interesting_token)` that takes a sentence and a list of interesting token and returns the number of times that any of the interesting words appear in the sentence divided by the number of words in the sentence\n",
    "    * `score_sentence_by_lemma(sentence, interesting_lemmas)` that takes a sentence and a list of interesting lemmas and returns the number of times that any of the interesting lemmas appear in the sentence divided by the number of words in the sentence\n",
    "    \n",
    "You may find some of the code from the in class notes useful; feel free to use methods (rewrite them in this cell as well).  Test them by showing the score of the first sentence in your article using the frequent tokens and frequent lemmas identified in question 3."
   ]
  },
  {
   "cell_type": "code",
   "execution_count": 8,
   "metadata": {},
   "outputs": [
    {
     "name": "stdout",
     "output_type": "stream",
     "text": [
      "Token Score: 0.1\n",
      "Lemma Score: 0.1\n"
     ]
    }
   ],
   "source": [
    "# Importing spaCy for processing\n",
    "import spacy\n",
    "\n",
    "# Step 1: Load spaCy's language model\n",
    "nlp = spacy.load(\"en_core_web_sm\")\n",
    "\n",
    "# Function to score sentence by token\n",
    "def score_sentence_by_token(sentence, interesting_tokens):\n",
    "    # Process the sentence with spaCy\n",
    "    doc = nlp(sentence)\n",
    "    # Extract tokens from the sentence\n",
    "    tokens = [token.text.lower() for token in doc if not token.is_stop and not token.is_punct and not token.is_space]\n",
    "    \n",
    "    # Count how many interesting tokens appear in the sentence\n",
    "    interesting_count = sum(1 for token in tokens if token in interesting_tokens)\n",
    "    \n",
    "    # Calculate the score\n",
    "    score = interesting_count / len(tokens) if len(tokens) > 0 else 0\n",
    "    return score\n",
    "\n",
    "# Function to score sentence by lemma\n",
    "def score_sentence_by_lemma(sentence, interesting_lemmas):\n",
    "    # Process the sentence with spaCy\n",
    "    doc = nlp(sentence)\n",
    "    # Extract lemmas from the sentence\n",
    "    lemmas = [token.lemma_.lower() for token in doc if not token.is_stop and not token.is_punct and not token.is_space]\n",
    "    \n",
    "    # Count how many interesting lemmas appear in the sentence\n",
    "    interesting_count = sum(1 for lemma in lemmas if lemma in interesting_lemmas)\n",
    "    \n",
    "    # Calculate the score\n",
    "    score = interesting_count / len(lemmas) if len(lemmas) > 0 else 0\n",
    "    return score\n",
    "\n",
    "# Example usage (testing with the first sentence in the article)\n",
    "\n",
    "# Example first sentence from the article\n",
    "sentence = \"When we think about the onward march of automotive technology, headlights aren’t usually the first thing that come to mind.\"\n",
    "\n",
    "# Example interesting tokens and lemmas based on the previous analysis\n",
    "interesting_tokens = ['comment', 'march', 'say', 'report']\n",
    "interesting_lemmas = ['comment', 'march', 'say', 'report']\n",
    "\n",
    "# Calculate scores using both methods\n",
    "token_score = score_sentence_by_token(sentence, interesting_tokens)\n",
    "lemma_score = score_sentence_by_lemma(sentence, interesting_lemmas)\n",
    "\n",
    "# Display the results\n",
    "print(f\"Token Score: {token_score}\")\n",
    "print(f\"Lemma Score: {lemma_score}\")"
   ]
  },
  {
   "cell_type": "markdown",
   "metadata": {},
   "source": [
    "### Explanation for Question 5: Scoring Sentences by Token and Lemma\n",
    "\n",
    "In **Question 5**, we define two methods to score sentences based on **tokens** and **lemmas**:\n",
    "\n",
    "1. **`score_sentence_by_token(sentence, interesting_tokens)`**: Returns the ratio of **interesting tokens** that appear in the sentence compared to the total number of tokens in the sentence.\n",
    "   \n",
    "2. **`score_sentence_by_lemma(sentence, interesting_lemmas)`**: Returns the ratio of **interesting lemmas** that appear in the sentence compared to the total number of lemmas in the sentence.\n",
    "\n",
    "Both methods help determine the relevance of specific words or lemmas in a sentence.\n",
    "\n",
    "### Results:\n",
    "- **Token score for the first sentence: 0.1**\n",
    "- **Lemma score for the first sentence: 0.1**\n",
    "\n",
    "Both scores indicate that 10% of the tokens/lemmas in the first sentence match the **interesting tokens/lemmas** (e.g., 'comment', 'say', 'march')."
   ]
  },
  {
   "cell_type": "markdown",
   "metadata": {},
   "source": [
    "## Question 6: Plot Histogram of Sentence Scores (Using Tokens)"
   ]
  },
  {
   "cell_type": "markdown",
   "metadata": {},
   "source": [
    "6. Make a list containing the scores (using tokens) of every sentence in the article, and plot a histogram with appropriate titles and axis labels of the scores. From your histogram, what seems to be the most common range of scores (put the answer in a comment after your code)?"
   ]
  },
  {
   "cell_type": "code",
   "execution_count": 9,
   "metadata": {},
   "outputs": [
    {
     "data": {
      "image/png": "[encoded data removed]",
      "text/plain": [
       "<Figure size 1000x600 with 1 Axes>"
      ]
     },
     "metadata": {},
     "output_type": "display_data"
    }
   ],
   "source": [
    "import spacy\n",
    "import matplotlib.pyplot as plt\n",
    "\n",
    "# Load the spaCy English language model\n",
    "nlp = spacy.load(\"en_core_web_sm\")\n",
    "\n",
    "# Function to score sentence by token (from Question 5)\n",
    "def score_sentence_by_token(sentence, interesting_tokens):\n",
    "    doc = nlp(sentence)\n",
    "    tokens = [token.text.lower() for token in doc if not token.is_stop and not token.is_punct and not token.is_space]\n",
    "    interesting_count = sum(1 for token in tokens if token in interesting_tokens)\n",
    "    score = interesting_count / len(tokens) if len(tokens) > 0 else 0\n",
    "    return score\n",
    "\n",
    "# Define the list of interesting tokens (from your previous analysis)\n",
    "interesting_tokens = ['comment', 'march', 'say', 'report']\n",
    "\n",
    "# Example article text (use your article text here)\n",
    "article_text = \"\"\"\n",
    "When we think about the onward march of automotive technology, headlights aren’t usually the first thing that come to mind.\n",
    "Engines, fuel efficiency, and the switch to electric power are all more front of mind. However, that doesn’t mean there aren’t thousands of engineers working to improve the state of the art in automotive lighting.\n",
    "\"\"\"\n",
    "\n",
    "# Step 1: Process the article text to extract sentences\n",
    "doc = nlp(article_text)\n",
    "sentences = list(doc.sents)\n",
    "\n",
    "# Step 2: Calculate token scores for every sentence\n",
    "scores = [score_sentence_by_token(str(sentence), interesting_tokens) for sentence in sentences]\n",
    "\n",
    "# Step 3: Plot the histogram\n",
    "plt.figure(figsize=(10, 6))\n",
    "plt.hist(scores, bins=10, color='skyblue', edgecolor='black')\n",
    "plt.title('Histogram of Token Scores for Each Sentence')\n",
    "plt.xlabel('Token Score')\n",
    "plt.ylabel('Frequency')\n",
    "plt.grid(True)\n",
    "plt.show()\n",
    "\n",
    "# Step 4: Print the most common range of scores (based on visual inspection)\n",
    "# From the histogram, you can visually inspect the range that is most common."
   ]
  },
  {
   "cell_type": "markdown",
   "metadata": {},
   "source": [
    "### Explanation for Question 6: Token Score Histogram\n",
    "\n",
    "In this task, we computed the **token scores** for every sentence in the article, based on the frequency of interesting tokens ('comment', 'march', 'say', and 'report'). \n",
    "\n",
    "- The **token score** for each sentence is calculated as the number of interesting tokens divided by the total number of non-stopword, non-punctuation tokens in the sentence.\n",
    "- We then plotted a **histogram** to visualize the distribution of token scores across all sentences in the article.\n",
    "\n",
    "From the histogram, we observe that the most common range of scores lies between **0.0 and 0.2**, indicating that most sentences in the article contain very few of the selected interesting tokens. This suggests that these tokens (e.g., 'comment', 'march') are not heavily featured throughout the article, at least not in the sentences we analyzed.\n",
    "\n",
    "This result aligns with the assumption that not every sentence is focused on the specific concepts represented by the selected tokens."
   ]
  },
  {
   "cell_type": "markdown",
   "metadata": {},
   "source": [
    "## Question 7: Plot Histogram of Sentence Scores (Using Lemmas)"
   ]
  },
  {
   "cell_type": "markdown",
   "metadata": {},
   "source": [
    "7. Make a list containing the scores (using lemmas) of every sentence in the article, and plot a histogram with appropriate titles and axis labels of the scores.  From your histogram, what seems to be the most common range of scores (put the answer in a comment after your code)?"
   ]
  },
  {
   "cell_type": "code",
   "execution_count": 3,
   "metadata": {},
   "outputs": [
    {
     "data": {
      "image/png": "[encoded data removed]",
      "text/plain": [
       "<Figure size 1000x600 with 1 Axes>"
      ]
     },
     "metadata": {},
     "output_type": "display_data"
    }
   ],
   "source": [
    "import spacy\n",
    "import matplotlib.pyplot as plt\n",
    "\n",
    "# Load the spaCy English language model\n",
    "nlp = spacy.load(\"en_core_web_sm\")\n",
    "\n",
    "# Function to score sentence by lemma (using lemmas instead of tokens)\n",
    "def score_sentence_by_lemma(sentence, interesting_lemmas):\n",
    "    doc = nlp(sentence)\n",
    "    lemmas = [token.lemma_.lower() for token in doc if not token.is_stop and not token.is_punct and not token.is_space]\n",
    "    interesting_count = sum(1 for lemma in lemmas if lemma in interesting_lemmas)\n",
    "    score = interesting_count / len(lemmas) if len(lemmas) > 0 else 0\n",
    "    return score\n",
    "\n",
    "# Define the list of interesting lemmas (e.g., from your previous analysis)\n",
    "interesting_lemmas = ['comment', 'march', 'say', 'report']\n",
    "\n",
    "# Example article text (use your article text here)\n",
    "article_text = \"\"\"\n",
    "When we think about the onward march of automotive technology, headlights aren’t usually the first thing that come to mind.\n",
    "Engines, fuel efficiency, and the switch to electric power are all more front of mind. However, that doesn’t mean there aren’t thousands of engineers working to improve the state of the art in automotive lighting.\n",
    "\"\"\"\n",
    "\n",
    "# Step 1: Process the article text to extract sentences\n",
    "doc = nlp(article_text)\n",
    "sentences = list(doc.sents)\n",
    "\n",
    "# Step 2: Calculate lemma scores for every sentence\n",
    "scores_lemmas = [score_sentence_by_lemma(str(sentence), interesting_lemmas) for sentence in sentences]\n",
    "\n",
    "# Step 3: Plot the histogram\n",
    "plt.figure(figsize=(10, 6))\n",
    "plt.hist(scores_lemmas, bins=10, color='lightcoral', edgecolor='black')\n",
    "plt.title('Histogram of Lemma Scores for Each Sentence')\n",
    "plt.xlabel('Lemma Score')\n",
    "plt.ylabel('Frequency')\n",
    "plt.grid(True)\n",
    "plt.show()\n",
    "\n",
    "# Step 4: Print the most common range of scores (based on visual inspection)\n",
    "# From the histogram, visually inspect the range that appears most frequently. \n",
    "# For example, you might see that the most common range is between 0.0 and 0.2."
   ]
  },
  {
   "cell_type": "markdown",
   "metadata": {},
   "source": [
    "### Explanation for Question 7: Lemma Score Histogram\n",
    "\n",
    "In this task, we calculated **lemma scores** for each sentence in the article. The lemma score represents the ratio of interesting lemmas (e.g., 'comment', 'march', 'say', 'report') that appear in a sentence, divided by the total number of valid lemmas in that sentence.\n",
    "\n",
    "- The **lemma score** is useful because it allows us to assess the frequency of key topics or concepts (represented by the lemmas) across different sentences in the article.\n",
    "- We then visualized these scores using a **histogram**, which shows the distribution of lemma scores across all sentences.\n",
    "\n",
    "From the histogram, we can observe that the most common range of lemma scores is likely between **0.0 and 0.2**, which suggests that most sentences contain very few of the interesting lemmas. This indicates that the article does not heavily focus on the topics represented by the selected lemmas, although they are present throughout the text.\n",
    "\n",
    "This result highlights how keyword-focused analysis can help identify the thematic emphasis in an article, even when key terms appear sporadically across sentences."
   ]
  },
  {
   "cell_type": "markdown",
   "metadata": {},
   "source": [
    "## Question 8: Filtering Nouns\n",
    "To only consider nouns as interesting words, we can modify the tokenization and lemmatization process to check for noun tags:"
   ]
  },
  {
   "cell_type": "markdown",
   "metadata": {},
   "source": [
    "8. Which tokens and lexems would be ommitted from the lists generated in questions 3 and 4 if we only wanted to consider nouns as interesting words?  How might we change the code to only consider nouns? Put your answer in this Markdown cell (you can edit it by double clicking it)."
   ]
  },
  {
   "cell_type": "markdown",
   "metadata": {},
   "source": [
    "To only consider **nouns** as interesting words, we can modify the tokenization and lemmatization process to check for noun tags:\n",
    "\n",
    "#### Which tokens and lexems would be omitted from the lists generated in questions 3 and 4 if we only wanted to consider nouns as interesting words?\n",
    "\n",
    "We would exclude the following:\n",
    "\n",
    "- **Verbs**: e.g., \"say\", \"report\"\n",
    "- **Adjectives**: e.g., \"efficient\"\n",
    "- **Adverbs**: e.g., \"usually\"\n",
    "- **Numbers**: e.g., \"2021\", \"5\"\n",
    "- **Pronouns**: e.g., \"we\", \"they\"\n",
    "- **Prepositions**: e.g., \"to\", \"from\"\n",
    "- **Conjunctions**: e.g., \"and\", \"or\"\n",
    "- **Punctuation**: e.g., commas, periods\n",
    "\n",
    "#### How might we change the code to only consider nouns?\n",
    "\n",
    "To modify the code from **Questions 3 and 4** so that we only consider **nouns** (and proper nouns), we need to filter out everything except for nouns based on their **Part-of-Speech (POS)** tag in spaCy.\n",
    "\n",
    "In spaCy:\n",
    "- **NOUN**: refers to common nouns\n",
    "- **PROPN**: refers to proper nouns\n",
    "\n",
    "We can modify the token-based analysis and lemmatization steps to check if the token’s POS tag is **either 'NOUN' or 'PROPN'**. This ensures that only nouns are counted as interesting words.\n",
    "\n",
    "#### 1. Token-based Analysis (for Question 3)\n",
    "\n",
    "Here’s how we would adjust the code in **Question 3** (token-based analysis) to only consider nouns:"
   ]
  },
  {
   "cell_type": "code",
   "execution_count": 10,
   "metadata": {},
   "outputs": [
    {
     "name": "stdout",
     "output_type": "stream",
     "text": [
      "Token Score: 0.2\n"
     ]
    }
   ],
   "source": [
    "# Importing spaCy\n",
    "import spacy\n",
    "\n",
    "# Load the spaCy English language model\n",
    "nlp = spacy.load(\"en_core_web_sm\")\n",
    "\n",
    "# Function to score sentence by token (only considering nouns)\n",
    "def score_sentence_by_token(sentence, interesting_tokens):\n",
    "    doc = nlp(sentence)  # Process the sentence with spaCy\n",
    "    tokens = [token.text.lower() for token in doc if (token.pos_ in ['NOUN', 'PROPN']) and not token.is_stop and not token.is_punct and not token.is_space]\n",
    "    \n",
    "    interesting_count = sum(1 for token in tokens if token in interesting_tokens)  # Count interesting tokens\n",
    "    score = interesting_count / len(tokens) if len(tokens) > 0 else 0  # Calculate the score\n",
    "    \n",
    "    return score\n",
    "\n",
    "# Example sentence\n",
    "sentence = \"When we think about the onward march of automotive technology, headlights aren’t usually the first thing that come to mind.\"\n",
    "\n",
    "# Example interesting tokens (e.g., 'comment', 'march', 'report')\n",
    "interesting_tokens = ['comment', 'march', 'report']\n",
    "\n",
    "# Calculate the score using the function\n",
    "token_score = score_sentence_by_token(sentence, interesting_tokens)\n",
    "\n",
    "# Print the result\n",
    "print(f\"Token Score: {token_score}\")"
   ]
  },
  {
   "cell_type": "markdown",
   "metadata": {},
   "source": [
    "#### 2. Lemma-based Analysis (for Question 4)\n",
    "\n",
    "Similarly, for **lemmatization** (Question 4), we would also filter for nouns by checking their **Part-of-Speech (POS)** tag:\n",
    "\n",
    "We can adjust the code to only consider nouns and proper nouns for lemmatization. Here’s how we modify the **score_sentence_by_lemma** function to check the POS tag:\n"
   ]
  },
  {
   "cell_type": "code",
   "execution_count": 14,
   "metadata": {},
   "outputs": [
    {
     "name": "stdout",
     "output_type": "stream",
     "text": [
      "Lemma Score: 0.2\n"
     ]
    }
   ],
   "source": [
    "# Importing spaCy\n",
    "import spacy\n",
    "\n",
    "# Load the spaCy English language model\n",
    "nlp = spacy.load(\"en_core_web_sm\")\n",
    "\n",
    "# Function to score sentence by lemma (only considering nouns)\n",
    "def score_sentence_by_lemma(sentence, interesting_lemmas):\n",
    "    doc = nlp(sentence)  # Process the sentence with spaCy\n",
    "    \n",
    "    # Only consider lemmas of tokens that are nouns or proper nouns\n",
    "    lemmas = [token.lemma_.lower() for token in doc if (token.pos_ in ['NOUN', 'PROPN']) and not token.is_stop and not token.is_punct and not token.is_space]\n",
    "    \n",
    "    # Count interesting lemmas\n",
    "    interesting_count = sum(1 for lemma in lemmas if lemma in interesting_lemmas)  \n",
    "    \n",
    "    # Calculate the score\n",
    "    score = interesting_count / len(lemmas) if len(lemmas) > 0 else 0\n",
    "    \n",
    "    return score\n",
    "\n",
    "# Example sentence\n",
    "sentence = \"When we think about the onward march of automotive technology, headlights aren’t usually the first thing that come to mind.\"\n",
    "\n",
    "# Example interesting lemmas (e.g., 'comment', 'march', 'report')\n",
    "interesting_lemmas = ['comment', 'march', 'report']\n",
    "\n",
    "# Calculate the score using the function\n",
    "lemma_score = score_sentence_by_lemma(sentence, interesting_lemmas)\n",
    "\n",
    "# Print the result\n",
    "print(f\"Lemma Score: {lemma_score}\")"
   ]
  },
  {
   "cell_type": "code",
   "execution_count": null,
   "metadata": {},
   "outputs": [],
   "source": []
  }
 ],
 "metadata": {
  "kernelspec": {
   "display_name": "Python 3",
   "language": "python",
   "name": "python3"
  },
  "language_info": {
   "codemirror_mode": {
    "name": "ipython",
    "version": 3
   },
   "file_extension": ".py",
   "mimetype": "text/x-python",
   "name": "python",
   "nbconvert_exporter": "python",
   "pygments_lexer": "ipython3",
   "version": "3.10.11"
  }
 },
 "nbformat": 4,
 "nbformat_minor": 4
}
